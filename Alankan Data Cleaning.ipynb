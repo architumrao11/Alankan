{
 "cells": [
  {
   "cell_type": "code",
   "execution_count": 2,
   "metadata": {
    "collapsed": true
   },
   "outputs": [],
   "source": [
    "import pandas as pd\n",
    "import numpy as np\n",
    "from pandas import DataFrame, Series\n",
    "import re"
   ]
  },
  {
   "cell_type": "code",
   "execution_count": 3,
   "metadata": {
    "collapsed": true
   },
   "outputs": [],
   "source": [
    "import matplotlib.pyplot as plt\n",
    "import seaborn as sns\n",
    "sns.set_style(\"whitegrid\")\n",
    "% matplotlib inline"
   ]
  },
  {
   "cell_type": "code",
   "execution_count": 4,
   "metadata": {
    "collapsed": true
   },
   "outputs": [],
   "source": [
    "df=pd.read_csv(\"Data.csv\")"
   ]
  },
  {
   "cell_type": "code",
   "execution_count": 5,
   "metadata": {
    "collapsed": true
   },
   "outputs": [],
   "source": [
    "df.rename(columns={\"Table Name\":\"tablename\",\"State Code\":\"statecode\",\"District Code\":\"distcode\",\"Area Name\":\"areaname\",\"Total/ Rural/Urban\":\"tru\",\"Age (in years)\":\"age\",\"Total - Male\":\"totalm\",\"Total - Female\":\"totalf\",\"PSUs - Male\":\"psum\",\"PSUs - Female\":\"psuf\",\"Private - Male\":\"pvtm\",\"Private - Female\":\"pvtf\",\"Business owners - Male\":\"bsm\",\"Business owners - Female\":\"bsf\",\"Zero income - Male\":\"0m\",\"Zero income - Female\":\"0f\",\"Other kind of employment - Male\":\"otherm\",\"Other kind of employment- Female\":\"otherf\"},inplace=True)"
   ]
  },
  {
   "cell_type": "code",
   "execution_count": 6,
   "metadata": {
    "collapsed": false
   },
   "outputs": [],
   "source": [
    "df.tru=df.tru.map({\"TOTAL\":\"t\",\"Total\":\"t\",\"Urban\":\"u\",\"URBAN\":\"u\",\"Rural\":\"r\",\"RURAL\":\"r\"})"
   ]
  },
  {
   "cell_type": "code",
   "execution_count": 7,
   "metadata": {
    "collapsed": false,
    "scrolled": false
   },
   "outputs": [
    {
     "data": {
      "text/html": [
       "<div>\n",
       "<table border=\"1\" class=\"dataframe\">\n",
       "  <thead>\n",
       "    <tr style=\"text-align: right;\">\n",
       "      <th></th>\n",
       "      <th>0f</th>\n",
       "      <th>0m</th>\n",
       "      <th>bsf</th>\n",
       "      <th>bsm</th>\n",
       "      <th>distcode</th>\n",
       "      <th>otherf</th>\n",
       "      <th>otherm</th>\n",
       "      <th>psuf</th>\n",
       "      <th>psum</th>\n",
       "      <th>pvtf</th>\n",
       "      <th>pvtm</th>\n",
       "      <th>totalf</th>\n",
       "      <th>totalm</th>\n",
       "    </tr>\n",
       "    <tr>\n",
       "      <th>statecode</th>\n",
       "      <th></th>\n",
       "      <th></th>\n",
       "      <th></th>\n",
       "      <th></th>\n",
       "      <th></th>\n",
       "      <th></th>\n",
       "      <th></th>\n",
       "      <th></th>\n",
       "      <th></th>\n",
       "      <th></th>\n",
       "      <th></th>\n",
       "      <th></th>\n",
       "      <th></th>\n",
       "    </tr>\n",
       "  </thead>\n",
       "  <tbody>\n",
       "    <tr>\n",
       "      <th>7</th>\n",
       "      <td>103.200000</td>\n",
       "      <td>76.773333</td>\n",
       "      <td>1986.826667</td>\n",
       "      <td>4453.573333</td>\n",
       "      <td>4.500000</td>\n",
       "      <td>0.000000</td>\n",
       "      <td>0.00000</td>\n",
       "      <td>213.386667</td>\n",
       "      <td>2645.386667</td>\n",
       "      <td>1578.906667</td>\n",
       "      <td>61691.120000</td>\n",
       "      <td>3882.320000</td>\n",
       "      <td>68866.853333</td>\n",
       "    </tr>\n",
       "    <tr>\n",
       "      <th>19</th>\n",
       "      <td>1131.691228</td>\n",
       "      <td>522.385965</td>\n",
       "      <td>4634.273684</td>\n",
       "      <td>17375.929825</td>\n",
       "      <td>9.000000</td>\n",
       "      <td>0.000000</td>\n",
       "      <td>0.00000</td>\n",
       "      <td>822.708772</td>\n",
       "      <td>5604.126316</td>\n",
       "      <td>4660.870175</td>\n",
       "      <td>187560.589474</td>\n",
       "      <td>11249.543860</td>\n",
       "      <td>211063.031579</td>\n",
       "    </tr>\n",
       "    <tr>\n",
       "      <th>27</th>\n",
       "      <td>622.970370</td>\n",
       "      <td>274.192593</td>\n",
       "      <td>3086.622222</td>\n",
       "      <td>10093.088889</td>\n",
       "      <td>17.500000</td>\n",
       "      <td>0.000000</td>\n",
       "      <td>0.00000</td>\n",
       "      <td>445.570370</td>\n",
       "      <td>3629.511111</td>\n",
       "      <td>3476.281481</td>\n",
       "      <td>122977.755556</td>\n",
       "      <td>7631.444444</td>\n",
       "      <td>136974.548148</td>\n",
       "    </tr>\n",
       "    <tr>\n",
       "      <th>29</th>\n",
       "      <td>456.200000</td>\n",
       "      <td>143.495238</td>\n",
       "      <td>2241.619048</td>\n",
       "      <td>9535.019048</td>\n",
       "      <td>13.500000</td>\n",
       "      <td>0.000000</td>\n",
       "      <td>0.00000</td>\n",
       "      <td>431.580952</td>\n",
       "      <td>2522.238095</td>\n",
       "      <td>3308.695238</td>\n",
       "      <td>80219.400000</td>\n",
       "      <td>6438.095238</td>\n",
       "      <td>92420.152381</td>\n",
       "    </tr>\n",
       "    <tr>\n",
       "      <th>33</th>\n",
       "      <td>357.367677</td>\n",
       "      <td>116.886869</td>\n",
       "      <td>1479.983838</td>\n",
       "      <td>6262.226263</td>\n",
       "      <td>619.979798</td>\n",
       "      <td>43.058586</td>\n",
       "      <td>18.59596</td>\n",
       "      <td>152.709091</td>\n",
       "      <td>466.729293</td>\n",
       "      <td>1636.896970</td>\n",
       "      <td>40566.076768</td>\n",
       "      <td>3670.016162</td>\n",
       "      <td>47430.515152</td>\n",
       "    </tr>\n",
       "  </tbody>\n",
       "</table>\n",
       "</div>"
      ],
      "text/plain": [
       "                    0f          0m          bsf           bsm    distcode  \\\n",
       "statecode                                                                   \n",
       "7           103.200000   76.773333  1986.826667   4453.573333    4.500000   \n",
       "19         1131.691228  522.385965  4634.273684  17375.929825    9.000000   \n",
       "27          622.970370  274.192593  3086.622222  10093.088889   17.500000   \n",
       "29          456.200000  143.495238  2241.619048   9535.019048   13.500000   \n",
       "33          357.367677  116.886869  1479.983838   6262.226263  619.979798   \n",
       "\n",
       "              otherf    otherm        psuf         psum         pvtf  \\\n",
       "statecode                                                              \n",
       "7           0.000000   0.00000  213.386667  2645.386667  1578.906667   \n",
       "19          0.000000   0.00000  822.708772  5604.126316  4660.870175   \n",
       "27          0.000000   0.00000  445.570370  3629.511111  3476.281481   \n",
       "29          0.000000   0.00000  431.580952  2522.238095  3308.695238   \n",
       "33         43.058586  18.59596  152.709091   466.729293  1636.896970   \n",
       "\n",
       "                    pvtm        totalf         totalm  \n",
       "statecode                                              \n",
       "7           61691.120000   3882.320000   68866.853333  \n",
       "19         187560.589474  11249.543860  211063.031579  \n",
       "27         122977.755556   7631.444444  136974.548148  \n",
       "29          80219.400000   6438.095238   92420.152381  \n",
       "33          40566.076768   3670.016162   47430.515152  "
      ]
     },
     "execution_count": 7,
     "metadata": {},
     "output_type": "execute_result"
    }
   ],
   "source": [
    "df.pivot_table(index=[\"statecode\"])"
   ]
  },
  {
   "cell_type": "code",
   "execution_count": 8,
   "metadata": {
    "collapsed": false
   },
   "outputs": [],
   "source": [
    "sat=df.groupby([\"statecode\",'areaname',\"tru\"])[['totalm', 'totalf',\n",
    "       'psum', 'psuf', 'pvtm', 'pvtf', 'bsm', 'bsf', '0m', '0f', 'otherm',\n",
    "       'otherf']].sum().reset_index()"
   ]
  },
  {
   "cell_type": "code",
   "execution_count": 9,
   "metadata": {
    "collapsed": true
   },
   "outputs": [],
   "source": [
    "sat_d=sat[sat.statecode==7]\n",
    "sat_w=sat[sat.statecode==19]\n",
    "sat_m=sat[sat.statecode==27]\n",
    "sat_k=sat[sat.statecode==29]\n",
    "sat_t=sat[sat.statecode==33]"
   ]
  },
  {
   "cell_type": "code",
   "execution_count": 10,
   "metadata": {
    "collapsed": true
   },
   "outputs": [],
   "source": [
    "sat_d_t=sat_d[sat_d.tru==\"t\"]"
   ]
  },
  {
   "cell_type": "code",
   "execution_count": 11,
   "metadata": {
    "collapsed": false,
    "scrolled": true
   },
   "outputs": [],
   "source": [
    "area_name=[]\n",
    "for i in sat_d_t.areaname:\n",
    "    area_name.append(re.split(r'\\s{2}', i)[0])\n",
    "area_name\n",
    "final=[]\n",
    "for i in area_name:\n",
    "    final.append(re.split(r'-\\s', i)[1])"
   ]
  },
  {
   "cell_type": "code",
   "execution_count": 12,
   "metadata": {
    "collapsed": false
   },
   "outputs": [
    {
     "name": "stderr",
     "output_type": "stream",
     "text": [
      "C:\\Users\\Archit Umrao\\Anaconda3\\lib\\site-packages\\ipykernel\\__main__.py:1: SettingWithCopyWarning: \n",
      "A value is trying to be set on a copy of a slice from a DataFrame.\n",
      "Try using .loc[row_indexer,col_indexer] = value instead\n",
      "\n",
      "See the caveats in the documentation: http://pandas.pydata.org/pandas-docs/stable/indexing.html#indexing-view-versus-copy\n",
      "  if __name__ == '__main__':\n"
     ]
    }
   ],
   "source": [
    "sat_d_t[\"areaname\"]=final"
   ]
  },
  {
   "cell_type": "code",
   "execution_count": 13,
   "metadata": {
    "collapsed": false
   },
   "outputs": [
    {
     "name": "stderr",
     "output_type": "stream",
     "text": [
      "C:\\Users\\Archit Umrao\\Anaconda3\\lib\\site-packages\\ipykernel\\__main__.py:1: SettingWithCopyWarning: \n",
      "A value is trying to be set on a copy of a slice from a DataFrame\n",
      "\n",
      "See the caveats in the documentation: http://pandas.pydata.org/pandas-docs/stable/indexing.html#indexing-view-versus-copy\n",
      "  if __name__ == '__main__':\n"
     ]
    }
   ],
   "source": [
    "sat_d_t.drop([\"otherm\",\"otherf\"],axis=1,inplace=True)\n"
   ]
  },
  {
   "cell_type": "code",
   "execution_count": 14,
   "metadata": {
    "collapsed": false,
    "scrolled": true
   },
   "outputs": [],
   "source": [
    "sat_w_t=sat_w[sat_w.tru==\"t\"]\n"
   ]
  },
  {
   "cell_type": "code",
   "execution_count": 15,
   "metadata": {
    "collapsed": false
   },
   "outputs": [],
   "source": [
    "area_name=[]\n",
    "for i in sat_w_t.areaname:\n",
    "    area_name.append(re.split(r'\\s{2}', i)[0])\n",
    "area_name\n",
    "wb_area=[]\n",
    "for i in area_name:\n",
    "    wb_area.append(re.split(r'\\*', i)[0])\n"
   ]
  },
  {
   "cell_type": "code",
   "execution_count": 16,
   "metadata": {
    "collapsed": false
   },
   "outputs": [
    {
     "data": {
      "text/plain": [
       "['Bankura',\n",
       " 'Barddhaman',\n",
       " 'Birbhum',\n",
       " 'Dakshin Dinajpur ',\n",
       " 'Darjiling',\n",
       " 'Haora',\n",
       " 'Hugli',\n",
       " 'Jalpaiguri',\n",
       " 'Koch Bihar',\n",
       " 'Kolkata',\n",
       " 'Maldah',\n",
       " 'Medinipur',\n",
       " 'Murshidabad',\n",
       " 'Nadia',\n",
       " 'North Twenty Four Parganas',\n",
       " 'Puruliya',\n",
       " 'South',\n",
       " 'Uttar Dinajpur',\n",
       " 'WEST BENGAL']"
      ]
     },
     "execution_count": 16,
     "metadata": {},
     "output_type": "execute_result"
    }
   ],
   "source": [
    "final=[]\n",
    "for i in wb_area:\n",
    "    final.append(re.split(r'-\\s', i)[1])\n",
    "final"
   ]
  },
  {
   "cell_type": "code",
   "execution_count": 17,
   "metadata": {
    "collapsed": false,
    "scrolled": true
   },
   "outputs": [
    {
     "name": "stderr",
     "output_type": "stream",
     "text": [
      "C:\\Users\\Archit Umrao\\Anaconda3\\lib\\site-packages\\ipykernel\\__main__.py:1: SettingWithCopyWarning: \n",
      "A value is trying to be set on a copy of a slice from a DataFrame.\n",
      "Try using .loc[row_indexer,col_indexer] = value instead\n",
      "\n",
      "See the caveats in the documentation: http://pandas.pydata.org/pandas-docs/stable/indexing.html#indexing-view-versus-copy\n",
      "  if __name__ == '__main__':\n"
     ]
    }
   ],
   "source": [
    "sat_w_t[\"areaname\"]=final"
   ]
  },
  {
   "cell_type": "code",
   "execution_count": 18,
   "metadata": {
    "collapsed": false
   },
   "outputs": [
    {
     "data": {
      "text/plain": [
       "'District - Akola  (05)'"
      ]
     },
     "execution_count": 18,
     "metadata": {},
     "output_type": "execute_result"
    }
   ],
   "source": [
    "sat_m_t=sat_m[sat_m.tru==\"t\"]\n",
    "sat_m_t.areaname[91]"
   ]
  },
  {
   "cell_type": "code",
   "execution_count": 19,
   "metadata": {
    "collapsed": false
   },
   "outputs": [],
   "source": [
    "area_name=[]\n",
    "for i in sat_m_t.areaname:\n",
    "    area_name.append(re.split(r'\\s{2}', i)[0])\n"
   ]
  },
  {
   "cell_type": "code",
   "execution_count": 20,
   "metadata": {
    "collapsed": false,
    "scrolled": true
   },
   "outputs": [],
   "source": [
    "n_area=[]\n",
    "for i in area_name:\n",
    "    n_area.append(re.split(r'\\s\\*', i)[0])\n"
   ]
  },
  {
   "cell_type": "code",
   "execution_count": 21,
   "metadata": {
    "collapsed": false
   },
   "outputs": [
    {
     "data": {
      "text/plain": [
       "['Ahmadnagar',\n",
       " 'Akola',\n",
       " 'Amravati',\n",
       " 'Aurangabad',\n",
       " 'Bhandara',\n",
       " 'Bid',\n",
       " 'Buldana',\n",
       " 'Chandrapur',\n",
       " 'Dhule',\n",
       " 'Gadchiroli',\n",
       " 'Gondiya',\n",
       " 'Hingoli',\n",
       " 'Jalgaon',\n",
       " 'Jalna',\n",
       " 'Kolhapur',\n",
       " 'Latur',\n",
       " 'Mumbai',\n",
       " 'Mumbai (Suburban)',\n",
       " 'Nagpur',\n",
       " 'Nanded',\n",
       " 'Nandurbar',\n",
       " 'Nashik',\n",
       " 'Osmanabad',\n",
       " 'Parbhani',\n",
       " 'Pune',\n",
       " 'Raigarh',\n",
       " 'Ratnagiri',\n",
       " 'Sangli',\n",
       " 'Satara',\n",
       " 'Sindhudurg',\n",
       " 'Solapur',\n",
       " 'Thane',\n",
       " 'Wardha',\n",
       " 'Washim',\n",
       " 'Yavatmal',\n",
       " 'MAHARASHTRA']"
      ]
     },
     "execution_count": 21,
     "metadata": {},
     "output_type": "execute_result"
    }
   ],
   "source": [
    "final=[]\n",
    "for i in n_area:\n",
    "    final.append(re.split(r'-\\s', i)[1])\n",
    "final"
   ]
  },
  {
   "cell_type": "code",
   "execution_count": 25,
   "metadata": {
    "collapsed": false
   },
   "outputs": [
    {
     "name": "stderr",
     "output_type": "stream",
     "text": [
      "C:\\Users\\Archit Umrao\\Anaconda3\\lib\\site-packages\\ipykernel\\__main__.py:1: SettingWithCopyWarning: \n",
      "A value is trying to be set on a copy of a slice from a DataFrame.\n",
      "Try using .loc[row_indexer,col_indexer] = value instead\n",
      "\n",
      "See the caveats in the documentation: http://pandas.pydata.org/pandas-docs/stable/indexing.html#indexing-view-versus-copy\n",
      "  if __name__ == '__main__':\n"
     ]
    }
   ],
   "source": [
    "sat_m_t[\"areaname\"]=final"
   ]
  },
  {
   "cell_type": "code",
   "execution_count": 26,
   "metadata": {
    "collapsed": false,
    "scrolled": true
   },
   "outputs": [],
   "source": [
    "sat_k_t=sat_k[sat_k.tru==\"t\"]"
   ]
  },
  {
   "cell_type": "code",
   "execution_count": 27,
   "metadata": {
    "collapsed": false
   },
   "outputs": [],
   "source": [
    "area_name=[]\n",
    "for i in sat_k_t.areaname:\n",
    "    area_name.append(re.split(r'\\s{2}', i)[0])"
   ]
  },
  {
   "cell_type": "code",
   "execution_count": 28,
   "metadata": {
    "collapsed": true
   },
   "outputs": [],
   "source": [
    "n_area=[]\n",
    "for i in area_name:\n",
    "    n_area.append(re.split(r'\\s\\*', i)[0])\n",
    "n_area1=[]\n",
    "for i in n_area:\n",
    "    n_area1.append(re.split(r'\\*', i)[0])"
   ]
  },
  {
   "cell_type": "code",
   "execution_count": 29,
   "metadata": {
    "collapsed": true
   },
   "outputs": [
    {
     "data": {
      "text/plain": [
       "['Bagalkot',\n",
       " 'Bangalore',\n",
       " 'Bangalore Rural',\n",
       " 'Belgaum',\n",
       " 'Bellary',\n",
       " 'Bidar',\n",
       " 'Bijapur',\n",
       " 'Chamarajanagar',\n",
       " 'Chikmagalur',\n",
       " 'Chitradurga',\n",
       " 'Dakshina Kannada',\n",
       " 'Davanagere',\n",
       " 'Dharwad',\n",
       " 'Gadag',\n",
       " 'Gulbarga',\n",
       " 'Hassan',\n",
       " 'Haveri',\n",
       " 'Kodagu',\n",
       " 'Kolar',\n",
       " 'Koppal',\n",
       " 'Mandya',\n",
       " 'Mysore',\n",
       " 'Raichur',\n",
       " 'Shimoga',\n",
       " 'Tumkur',\n",
       " 'Udupi',\n",
       " 'Uttara Kannada',\n",
       " 'KARNATAKA']"
      ]
     },
     "execution_count": 29,
     "metadata": {},
     "output_type": "execute_result"
    }
   ],
   "source": [
    "final=[]\n",
    "for i in n_area1:\n",
    "    final.append(re.split(r'-\\s', i)[1])\n",
    "final"
   ]
  },
  {
   "cell_type": "code",
   "execution_count": 30,
   "metadata": {
    "collapsed": false
   },
   "outputs": [
    {
     "name": "stderr",
     "output_type": "stream",
     "text": [
      "C:\\Users\\Archit Umrao\\Anaconda3\\lib\\site-packages\\ipykernel\\__main__.py:1: SettingWithCopyWarning: \n",
      "A value is trying to be set on a copy of a slice from a DataFrame.\n",
      "Try using .loc[row_indexer,col_indexer] = value instead\n",
      "\n",
      "See the caveats in the documentation: http://pandas.pydata.org/pandas-docs/stable/indexing.html#indexing-view-versus-copy\n",
      "  if __name__ == '__main__':\n"
     ]
    }
   ],
   "source": [
    "sat_k_t[\"areaname\"]=final"
   ]
  },
  {
   "cell_type": "code",
   "execution_count": 56,
   "metadata": {
    "collapsed": false
   },
   "outputs": [
    {
     "data": {
      "text/html": [
       "<div>\n",
       "<table border=\"1\" class=\"dataframe\">\n",
       "  <thead>\n",
       "    <tr style=\"text-align: right;\">\n",
       "      <th></th>\n",
       "      <th>statecode</th>\n",
       "      <th>areaname</th>\n",
       "      <th>tru</th>\n",
       "      <th>totalm</th>\n",
       "      <th>totalf</th>\n",
       "      <th>psum</th>\n",
       "      <th>psuf</th>\n",
       "      <th>pvtm</th>\n",
       "      <th>pvtf</th>\n",
       "      <th>bsm</th>\n",
       "      <th>bsf</th>\n",
       "      <th>0m</th>\n",
       "      <th>0f</th>\n",
       "      <th>otherm</th>\n",
       "      <th>otherf</th>\n",
       "    </tr>\n",
       "  </thead>\n",
       "  <tbody>\n",
       "    <tr>\n",
       "      <th>283</th>\n",
       "      <td>33</td>\n",
       "      <td>Ariyalur</td>\n",
       "      <td>t</td>\n",
       "      <td>360246</td>\n",
       "      <td>33658</td>\n",
       "      <td>2554</td>\n",
       "      <td>766</td>\n",
       "      <td>306142</td>\n",
       "      <td>17746</td>\n",
       "      <td>50582</td>\n",
       "      <td>12824</td>\n",
       "      <td>872</td>\n",
       "      <td>2150</td>\n",
       "      <td>96</td>\n",
       "      <td>172</td>\n",
       "    </tr>\n",
       "    <tr>\n",
       "      <th>288</th>\n",
       "      <td>33</td>\n",
       "      <td>Coimbatore</td>\n",
       "      <td>t</td>\n",
       "      <td>1799436</td>\n",
       "      <td>112020</td>\n",
       "      <td>22228</td>\n",
       "      <td>5116</td>\n",
       "      <td>1566082</td>\n",
       "      <td>39350</td>\n",
       "      <td>204776</td>\n",
       "      <td>50286</td>\n",
       "      <td>5570</td>\n",
       "      <td>15818</td>\n",
       "      <td>780</td>\n",
       "      <td>1450</td>\n",
       "    </tr>\n",
       "    <tr>\n",
       "      <th>292</th>\n",
       "      <td>33</td>\n",
       "      <td>Cuddalore</td>\n",
       "      <td>t</td>\n",
       "      <td>1185398</td>\n",
       "      <td>81684</td>\n",
       "      <td>9616</td>\n",
       "      <td>2178</td>\n",
       "      <td>1024834</td>\n",
       "      <td>36640</td>\n",
       "      <td>148902</td>\n",
       "      <td>37328</td>\n",
       "      <td>1776</td>\n",
       "      <td>4982</td>\n",
       "      <td>270</td>\n",
       "      <td>556</td>\n",
       "    </tr>\n",
       "    <tr>\n",
       "      <th>296</th>\n",
       "      <td>33</td>\n",
       "      <td>Dharmapuri</td>\n",
       "      <td>t</td>\n",
       "      <td>704154</td>\n",
       "      <td>46748</td>\n",
       "      <td>5092</td>\n",
       "      <td>1504</td>\n",
       "      <td>615442</td>\n",
       "      <td>21188</td>\n",
       "      <td>81414</td>\n",
       "      <td>17252</td>\n",
       "      <td>1986</td>\n",
       "      <td>6326</td>\n",
       "      <td>220</td>\n",
       "      <td>478</td>\n",
       "    </tr>\n",
       "    <tr>\n",
       "      <th>299</th>\n",
       "      <td>33</td>\n",
       "      <td>Dindigul</td>\n",
       "      <td>t</td>\n",
       "      <td>1044394</td>\n",
       "      <td>75150</td>\n",
       "      <td>8164</td>\n",
       "      <td>3388</td>\n",
       "      <td>895970</td>\n",
       "      <td>25184</td>\n",
       "      <td>136704</td>\n",
       "      <td>37766</td>\n",
       "      <td>3118</td>\n",
       "      <td>7836</td>\n",
       "      <td>438</td>\n",
       "      <td>976</td>\n",
       "    </tr>\n",
       "    <tr>\n",
       "      <th>306</th>\n",
       "      <td>33</td>\n",
       "      <td>Kanniyakumari</td>\n",
       "      <td>t</td>\n",
       "      <td>873662</td>\n",
       "      <td>91342</td>\n",
       "      <td>8712</td>\n",
       "      <td>4510</td>\n",
       "      <td>739010</td>\n",
       "      <td>50884</td>\n",
       "      <td>123776</td>\n",
       "      <td>28580</td>\n",
       "      <td>1914</td>\n",
       "      <td>6696</td>\n",
       "      <td>250</td>\n",
       "      <td>672</td>\n",
       "    </tr>\n",
       "    <tr>\n",
       "      <th>310</th>\n",
       "      <td>33</td>\n",
       "      <td>Karur</td>\n",
       "      <td>t</td>\n",
       "      <td>535276</td>\n",
       "      <td>38266</td>\n",
       "      <td>5346</td>\n",
       "      <td>1072</td>\n",
       "      <td>445724</td>\n",
       "      <td>10714</td>\n",
       "      <td>81500</td>\n",
       "      <td>19774</td>\n",
       "      <td>2478</td>\n",
       "      <td>6224</td>\n",
       "      <td>228</td>\n",
       "      <td>482</td>\n",
       "    </tr>\n",
       "    <tr>\n",
       "      <th>313</th>\n",
       "      <td>33</td>\n",
       "      <td>Krishnagiri</td>\n",
       "      <td>t</td>\n",
       "      <td>834986</td>\n",
       "      <td>60074</td>\n",
       "      <td>10050</td>\n",
       "      <td>1866</td>\n",
       "      <td>729110</td>\n",
       "      <td>28780</td>\n",
       "      <td>93444</td>\n",
       "      <td>21614</td>\n",
       "      <td>2164</td>\n",
       "      <td>7320</td>\n",
       "      <td>218</td>\n",
       "      <td>494</td>\n",
       "    </tr>\n",
       "    <tr>\n",
       "      <th>319</th>\n",
       "      <td>33</td>\n",
       "      <td>Madurai</td>\n",
       "      <td>t</td>\n",
       "      <td>1485300</td>\n",
       "      <td>102066</td>\n",
       "      <td>11692</td>\n",
       "      <td>4498</td>\n",
       "      <td>1281328</td>\n",
       "      <td>41996</td>\n",
       "      <td>188198</td>\n",
       "      <td>44324</td>\n",
       "      <td>3290</td>\n",
       "      <td>9382</td>\n",
       "      <td>792</td>\n",
       "      <td>1866</td>\n",
       "    </tr>\n",
       "    <tr>\n",
       "      <th>323</th>\n",
       "      <td>33</td>\n",
       "      <td>Nagapattinam</td>\n",
       "      <td>t</td>\n",
       "      <td>753272</td>\n",
       "      <td>73132</td>\n",
       "      <td>6600</td>\n",
       "      <td>2118</td>\n",
       "      <td>622742</td>\n",
       "      <td>38230</td>\n",
       "      <td>122132</td>\n",
       "      <td>27396</td>\n",
       "      <td>1564</td>\n",
       "      <td>4750</td>\n",
       "      <td>234</td>\n",
       "      <td>638</td>\n",
       "    </tr>\n",
       "    <tr>\n",
       "      <th>330</th>\n",
       "      <td>33</td>\n",
       "      <td>Perambalur</td>\n",
       "      <td>t</td>\n",
       "      <td>265218</td>\n",
       "      <td>32740</td>\n",
       "      <td>1598</td>\n",
       "      <td>774</td>\n",
       "      <td>223224</td>\n",
       "      <td>20156</td>\n",
       "      <td>39696</td>\n",
       "      <td>9844</td>\n",
       "      <td>616</td>\n",
       "      <td>1732</td>\n",
       "      <td>84</td>\n",
       "      <td>234</td>\n",
       "    </tr>\n",
       "    <tr>\n",
       "      <th>333</th>\n",
       "      <td>33</td>\n",
       "      <td>Pudukkottai</td>\n",
       "      <td>t</td>\n",
       "      <td>704326</td>\n",
       "      <td>70018</td>\n",
       "      <td>5658</td>\n",
       "      <td>2458</td>\n",
       "      <td>601948</td>\n",
       "      <td>36422</td>\n",
       "      <td>94936</td>\n",
       "      <td>24730</td>\n",
       "      <td>1580</td>\n",
       "      <td>5770</td>\n",
       "      <td>204</td>\n",
       "      <td>638</td>\n",
       "    </tr>\n",
       "    <tr>\n",
       "      <th>338</th>\n",
       "      <td>33</td>\n",
       "      <td>Ramanathapuram</td>\n",
       "      <td>t</td>\n",
       "      <td>577540</td>\n",
       "      <td>68764</td>\n",
       "      <td>4012</td>\n",
       "      <td>1714</td>\n",
       "      <td>500778</td>\n",
       "      <td>43424</td>\n",
       "      <td>71622</td>\n",
       "      <td>19448</td>\n",
       "      <td>962</td>\n",
       "      <td>3510</td>\n",
       "      <td>166</td>\n",
       "      <td>668</td>\n",
       "    </tr>\n",
       "    <tr>\n",
       "      <th>342</th>\n",
       "      <td>33</td>\n",
       "      <td>Sivaganga</td>\n",
       "      <td>t</td>\n",
       "      <td>602118</td>\n",
       "      <td>74548</td>\n",
       "      <td>3886</td>\n",
       "      <td>2048</td>\n",
       "      <td>510480</td>\n",
       "      <td>44476</td>\n",
       "      <td>86080</td>\n",
       "      <td>22162</td>\n",
       "      <td>1408</td>\n",
       "      <td>5052</td>\n",
       "      <td>264</td>\n",
       "      <td>810</td>\n",
       "    </tr>\n",
       "    <tr>\n",
       "      <th>346</th>\n",
       "      <td>33</td>\n",
       "      <td>Thanjavur</td>\n",
       "      <td>t</td>\n",
       "      <td>1093782</td>\n",
       "      <td>114820</td>\n",
       "      <td>9928</td>\n",
       "      <td>3500</td>\n",
       "      <td>911240</td>\n",
       "      <td>62188</td>\n",
       "      <td>169816</td>\n",
       "      <td>40438</td>\n",
       "      <td>2428</td>\n",
       "      <td>7838</td>\n",
       "      <td>370</td>\n",
       "      <td>856</td>\n",
       "    </tr>\n",
       "    <tr>\n",
       "      <th>351</th>\n",
       "      <td>33</td>\n",
       "      <td>Theni</td>\n",
       "      <td>t</td>\n",
       "      <td>637680</td>\n",
       "      <td>37748</td>\n",
       "      <td>3566</td>\n",
       "      <td>1736</td>\n",
       "      <td>537692</td>\n",
       "      <td>11874</td>\n",
       "      <td>94772</td>\n",
       "      <td>19134</td>\n",
       "      <td>1370</td>\n",
       "      <td>4276</td>\n",
       "      <td>280</td>\n",
       "      <td>728</td>\n",
       "    </tr>\n",
       "    <tr>\n",
       "      <th>354</th>\n",
       "      <td>33</td>\n",
       "      <td>Thiruvarur</td>\n",
       "      <td>t</td>\n",
       "      <td>599650</td>\n",
       "      <td>53966</td>\n",
       "      <td>4626</td>\n",
       "      <td>1430</td>\n",
       "      <td>502182</td>\n",
       "      <td>26196</td>\n",
       "      <td>91598</td>\n",
       "      <td>22116</td>\n",
       "      <td>1064</td>\n",
       "      <td>3814</td>\n",
       "      <td>180</td>\n",
       "      <td>410</td>\n",
       "    </tr>\n",
       "    <tr>\n",
       "      <th>357</th>\n",
       "      <td>33</td>\n",
       "      <td>Thoothukkudi</td>\n",
       "      <td>t</td>\n",
       "      <td>852620</td>\n",
       "      <td>70462</td>\n",
       "      <td>6074</td>\n",
       "      <td>2716</td>\n",
       "      <td>710216</td>\n",
       "      <td>30206</td>\n",
       "      <td>133718</td>\n",
       "      <td>28874</td>\n",
       "      <td>2310</td>\n",
       "      <td>7844</td>\n",
       "      <td>302</td>\n",
       "      <td>822</td>\n",
       "    </tr>\n",
       "    <tr>\n",
       "      <th>361</th>\n",
       "      <td>33</td>\n",
       "      <td>Tiruchirappalli</td>\n",
       "      <td>t</td>\n",
       "      <td>1298842</td>\n",
       "      <td>95232</td>\n",
       "      <td>15038</td>\n",
       "      <td>5980</td>\n",
       "      <td>1086388</td>\n",
       "      <td>34472</td>\n",
       "      <td>193068</td>\n",
       "      <td>43846</td>\n",
       "      <td>3872</td>\n",
       "      <td>9980</td>\n",
       "      <td>476</td>\n",
       "      <td>954</td>\n",
       "    </tr>\n",
       "    <tr>\n",
       "      <th>365</th>\n",
       "      <td>33</td>\n",
       "      <td>Tirunelveli</td>\n",
       "      <td>t</td>\n",
       "      <td>1509956</td>\n",
       "      <td>118560</td>\n",
       "      <td>9238</td>\n",
       "      <td>5076</td>\n",
       "      <td>1260444</td>\n",
       "      <td>49312</td>\n",
       "      <td>236570</td>\n",
       "      <td>50690</td>\n",
       "      <td>3184</td>\n",
       "      <td>11870</td>\n",
       "      <td>520</td>\n",
       "      <td>1612</td>\n",
       "    </tr>\n",
       "    <tr>\n",
       "      <th>369</th>\n",
       "      <td>33</td>\n",
       "      <td>Tiruppur</td>\n",
       "      <td>t</td>\n",
       "      <td>1337140</td>\n",
       "      <td>84320</td>\n",
       "      <td>19418</td>\n",
       "      <td>3546</td>\n",
       "      <td>1161952</td>\n",
       "      <td>28418</td>\n",
       "      <td>150868</td>\n",
       "      <td>38672</td>\n",
       "      <td>4294</td>\n",
       "      <td>12538</td>\n",
       "      <td>608</td>\n",
       "      <td>1146</td>\n",
       "    </tr>\n",
       "    <tr>\n",
       "      <th>376</th>\n",
       "      <td>33</td>\n",
       "      <td>Virudhunagar</td>\n",
       "      <td>t</td>\n",
       "      <td>1007796</td>\n",
       "      <td>66636</td>\n",
       "      <td>6412</td>\n",
       "      <td>3126</td>\n",
       "      <td>852134</td>\n",
       "      <td>21100</td>\n",
       "      <td>145908</td>\n",
       "      <td>32062</td>\n",
       "      <td>2806</td>\n",
       "      <td>8976</td>\n",
       "      <td>536</td>\n",
       "      <td>1372</td>\n",
       "    </tr>\n",
       "  </tbody>\n",
       "</table>\n",
       "</div>"
      ],
      "text/plain": [
       "     statecode         areaname tru   totalm  totalf   psum  psuf     pvtm  \\\n",
       "283         33       Ariyalur     t   360246   33658   2554   766   306142   \n",
       "288         33       Coimbatore   t  1799436  112020  22228  5116  1566082   \n",
       "292         33        Cuddalore   t  1185398   81684   9616  2178  1024834   \n",
       "296         33       Dharmapuri   t   704154   46748   5092  1504   615442   \n",
       "299         33         Dindigul   t  1044394   75150   8164  3388   895970   \n",
       "306         33    Kanniyakumari   t   873662   91342   8712  4510   739010   \n",
       "310         33           Karur    t   535276   38266   5346  1072   445724   \n",
       "313         33      Krishnagiri   t   834986   60074  10050  1866   729110   \n",
       "319         33          Madurai   t  1485300  102066  11692  4498  1281328   \n",
       "323         33   Nagapattinam     t   753272   73132   6600  2118   622742   \n",
       "330         33     Perambalur     t   265218   32740   1598   774   223224   \n",
       "333         33      Pudukkottai   t   704326   70018   5658  2458   601948   \n",
       "338         33   Ramanathapuram   t   577540   68764   4012  1714   500778   \n",
       "342         33        Sivaganga   t   602118   74548   3886  2048   510480   \n",
       "346         33        Thanjavur   t  1093782  114820   9928  3500   911240   \n",
       "351         33          Theni     t   637680   37748   3566  1736   537692   \n",
       "354         33       Thiruvarur   t   599650   53966   4626  1430   502182   \n",
       "357         33     Thoothukkudi   t   852620   70462   6074  2716   710216   \n",
       "361         33  Tiruchirappalli   t  1298842   95232  15038  5980  1086388   \n",
       "365         33     Tirunelveli    t  1509956  118560   9238  5076  1260444   \n",
       "369         33         Tiruppur   t  1337140   84320  19418  3546  1161952   \n",
       "376         33     Virudhunagar   t  1007796   66636   6412  3126   852134   \n",
       "\n",
       "      pvtf     bsm    bsf    0m     0f  otherm  otherf  \n",
       "283  17746   50582  12824   872   2150      96     172  \n",
       "288  39350  204776  50286  5570  15818     780    1450  \n",
       "292  36640  148902  37328  1776   4982     270     556  \n",
       "296  21188   81414  17252  1986   6326     220     478  \n",
       "299  25184  136704  37766  3118   7836     438     976  \n",
       "306  50884  123776  28580  1914   6696     250     672  \n",
       "310  10714   81500  19774  2478   6224     228     482  \n",
       "313  28780   93444  21614  2164   7320     218     494  \n",
       "319  41996  188198  44324  3290   9382     792    1866  \n",
       "323  38230  122132  27396  1564   4750     234     638  \n",
       "330  20156   39696   9844   616   1732      84     234  \n",
       "333  36422   94936  24730  1580   5770     204     638  \n",
       "338  43424   71622  19448   962   3510     166     668  \n",
       "342  44476   86080  22162  1408   5052     264     810  \n",
       "346  62188  169816  40438  2428   7838     370     856  \n",
       "351  11874   94772  19134  1370   4276     280     728  \n",
       "354  26196   91598  22116  1064   3814     180     410  \n",
       "357  30206  133718  28874  2310   7844     302     822  \n",
       "361  34472  193068  43846  3872   9980     476     954  \n",
       "365  49312  236570  50690  3184  11870     520    1612  \n",
       "369  28418  150868  38672  4294  12538     608    1146  \n",
       "376  21100  145908  32062  2806   8976     536    1372  "
      ]
     },
     "execution_count": 56,
     "metadata": {},
     "output_type": "execute_result"
    }
   ],
   "source": [
    "sat_t_t=sat_t[sat_t.tru==\"t\"]"
   ]
  },
  {
   "cell_type": "code",
   "execution_count": null,
   "metadata": {
    "collapsed": true
   },
   "outputs": [],
   "source": [
    "# data cleaned, now visualisation to be done"
   ]
  },
  {
   "cell_type": "code",
   "execution_count": null,
   "metadata": {
    "collapsed": true
   },
   "outputs": [],
   "source": [
    "#beech mei output karke dekh lena, I have removed the output commands."
   ]
  },
  {
   "cell_type": "code",
   "execution_count": null,
   "metadata": {
    "collapsed": true
   },
   "outputs": [],
   "source": []
  },
  {
   "cell_type": "code",
   "execution_count": null,
   "metadata": {
    "collapsed": true
   },
   "outputs": [],
   "source": [
    "#Next part, Ye uss din ka hai, need to be thought about again."
   ]
  },
  {
   "cell_type": "code",
   "execution_count": null,
   "metadata": {
    "collapsed": true
   },
   "outputs": [],
   "source": [
    "for x in sat_d_t['areaname'].unique():\n",
    "    sat_d_t[sat_d_t['areaname']==x].transpose()"
   ]
  },
  {
   "cell_type": "code",
   "execution_count": 38,
   "metadata": {
    "collapsed": true
   },
   "outputs": [
    {
     "data": {
      "text/html": [
       "<div>\n",
       "<table border=\"1\" class=\"dataframe\">\n",
       "  <thead>\n",
       "    <tr style=\"text-align: right;\">\n",
       "      <th></th>\n",
       "      <th>statecode</th>\n",
       "      <th>areaname</th>\n",
       "      <th>tru</th>\n",
       "      <th>totalm</th>\n",
       "      <th>totalf</th>\n",
       "      <th>psum</th>\n",
       "      <th>psuf</th>\n",
       "      <th>pvtm</th>\n",
       "      <th>pvtf</th>\n",
       "      <th>bsm</th>\n",
       "      <th>bsf</th>\n",
       "      <th>0m</th>\n",
       "      <th>0f</th>\n",
       "    </tr>\n",
       "  </thead>\n",
       "  <tbody>\n",
       "  </tbody>\n",
       "</table>\n",
       "</div>"
      ],
      "text/plain": [
       "Empty DataFrame\n",
       "Columns: [statecode, areaname, tru, totalm, totalf, psum, psuf, pvtm, pvtf, bsm, bsf, 0m, 0f]\n",
       "Index: []"
      ]
     },
     "execution_count": 38,
     "metadata": {},
     "output_type": "execute_result"
    }
   ],
   "source": [
    "focus=sat_d_t[sat_d_t.areaname==\"Central\"]\n",
    "focus"
   ]
  },
  {
   "cell_type": "code",
   "execution_count": 39,
   "metadata": {
    "collapsed": true
   },
   "outputs": [
    {
     "name": "stderr",
     "output_type": "stream",
     "text": [
      "C:\\Users\\Archit Umrao\\Anaconda3\\lib\\site-packages\\ipykernel\\__main__.py:3: SettingWithCopyWarning: \n",
      "A value is trying to be set on a copy of a slice from a DataFrame\n",
      "\n",
      "See the caveats in the documentation: http://pandas.pydata.org/pandas-docs/stable/indexing.html#indexing-view-versus-copy\n",
      "  app.launch_new_instance()\n"
     ]
    },
    {
     "data": {
      "text/plain": [
       "Index(['psum', 'psuf', 'pvtm', 'pvtf', 'bsm', 'bsf', '0m', '0f'], dtype='object')"
      ]
     },
     "execution_count": 39,
     "metadata": {},
     "output_type": "execute_result"
    }
   ],
   "source": [
    "new=pd.DataFrame()\n",
    "focus.columns\n",
    "focus.drop(['statecode', 'areaname', 'tru', 'totalm', 'totalf'],axis=1,inplace=True)\n",
    "focus.columns"
   ]
  },
  {
   "cell_type": "code",
   "execution_count": 22,
   "metadata": {
    "collapsed": false
   },
   "outputs": [
    {
     "ename": "NameError",
     "evalue": "name 'focus' is not defined",
     "output_type": "error",
     "traceback": [
      "\u001b[0;31m---------------------------------------------------------------------------\u001b[0m",
      "\u001b[0;31mNameError\u001b[0m                                 Traceback (most recent call last)",
      "\u001b[0;32m<ipython-input-22-537d14c6f879>\u001b[0m in \u001b[0;36m<module>\u001b[0;34m()\u001b[0m\n\u001b[0;32m----> 1\u001b[0;31m \u001b[0mfocus\u001b[0m\u001b[1;33m.\u001b[0m\u001b[0mcolumns\u001b[0m\u001b[1;33m\u001b[0m\u001b[0m\n\u001b[0m\u001b[1;32m      2\u001b[0m \u001b[0mfocus\u001b[0m\u001b[1;33m[\u001b[0m\u001b[1;34m'psum'\u001b[0m\u001b[1;33m]\u001b[0m\u001b[1;33m\u001b[0m\u001b[0m\n",
      "\u001b[0;31mNameError\u001b[0m: name 'focus' is not defined"
     ]
    }
   ],
   "source": [
    "focus.columns\n",
    "focus['psum']"
   ]
  },
  {
   "cell_type": "code",
   "execution_count": null,
   "metadata": {
    "collapsed": false
   },
   "outputs": [],
   "source": [
    "tjob=[]\n",
    "gender=[]\n",
    "\n",
    "people=[]\n",
    "for i in focus.columns:\n",
    "    people.append(focus[i])\n",
    "\n",
    "for k in [1,2,3,4]:\n",
    "      for i in [\"m\",\"f\"]:\n",
    "            gender.append(i)\n",
    "            tjob.append(k)"
   ]
  },
  {
   "cell_type": "code",
   "execution_count": 42,
   "metadata": {
    "collapsed": true
   },
   "outputs": [
    {
     "data": {
      "text/plain": [
       "[Series([], Name: psum, dtype: int64),\n",
       " Series([], Name: psuf, dtype: int64),\n",
       " Series([], Name: pvtm, dtype: int64),\n",
       " Series([], Name: pvtf, dtype: int64),\n",
       " Series([], Name: bsm, dtype: int64),\n",
       " Series([], Name: bsf, dtype: int64),\n",
       " Series([], Name: 0m, dtype: int64),\n",
       " Series([], Name: 0f, dtype: int64)]"
      ]
     },
     "execution_count": 42,
     "metadata": {},
     "output_type": "execute_result"
    }
   ],
   "source": [
    "people"
   ]
  },
  {
   "cell_type": "code",
   "execution_count": 43,
   "metadata": {
    "collapsed": false
   },
   "outputs": [],
   "source": [
    "new=pd.DataFrame({\"gender\":gender,\"tjob\":tjob,\"people\":people})"
   ]
  },
  {
   "cell_type": "code",
   "execution_count": 44,
   "metadata": {
    "collapsed": true
   },
   "outputs": [
    {
     "data": {
      "text/html": [
       "<div>\n",
       "<table border=\"1\" class=\"dataframe\">\n",
       "  <thead>\n",
       "    <tr style=\"text-align: right;\">\n",
       "      <th></th>\n",
       "      <th>gender</th>\n",
       "      <th>people</th>\n",
       "      <th>tjob</th>\n",
       "    </tr>\n",
       "  </thead>\n",
       "  <tbody>\n",
       "    <tr>\n",
       "      <th>0</th>\n",
       "      <td>m</td>\n",
       "      <td>Series([], Name: psum, dtype: int64)</td>\n",
       "      <td>1</td>\n",
       "    </tr>\n",
       "    <tr>\n",
       "      <th>1</th>\n",
       "      <td>f</td>\n",
       "      <td>Series([], Name: psuf, dtype: int64)</td>\n",
       "      <td>1</td>\n",
       "    </tr>\n",
       "    <tr>\n",
       "      <th>2</th>\n",
       "      <td>m</td>\n",
       "      <td>Series([], Name: pvtm, dtype: int64)</td>\n",
       "      <td>2</td>\n",
       "    </tr>\n",
       "    <tr>\n",
       "      <th>3</th>\n",
       "      <td>f</td>\n",
       "      <td>Series([], Name: pvtf, dtype: int64)</td>\n",
       "      <td>2</td>\n",
       "    </tr>\n",
       "    <tr>\n",
       "      <th>4</th>\n",
       "      <td>m</td>\n",
       "      <td>Series([], Name: bsm, dtype: int64)</td>\n",
       "      <td>3</td>\n",
       "    </tr>\n",
       "    <tr>\n",
       "      <th>5</th>\n",
       "      <td>f</td>\n",
       "      <td>Series([], Name: bsf, dtype: int64)</td>\n",
       "      <td>3</td>\n",
       "    </tr>\n",
       "    <tr>\n",
       "      <th>6</th>\n",
       "      <td>m</td>\n",
       "      <td>Series([], Name: 0m, dtype: int64)</td>\n",
       "      <td>4</td>\n",
       "    </tr>\n",
       "    <tr>\n",
       "      <th>7</th>\n",
       "      <td>f</td>\n",
       "      <td>Series([], Name: 0f, dtype: int64)</td>\n",
       "      <td>4</td>\n",
       "    </tr>\n",
       "  </tbody>\n",
       "</table>\n",
       "</div>"
      ],
      "text/plain": [
       "  gender                                people  tjob\n",
       "0      m  Series([], Name: psum, dtype: int64)     1\n",
       "1      f  Series([], Name: psuf, dtype: int64)     1\n",
       "2      m  Series([], Name: pvtm, dtype: int64)     2\n",
       "3      f  Series([], Name: pvtf, dtype: int64)     2\n",
       "4      m   Series([], Name: bsm, dtype: int64)     3\n",
       "5      f   Series([], Name: bsf, dtype: int64)     3\n",
       "6      m    Series([], Name: 0m, dtype: int64)     4\n",
       "7      f    Series([], Name: 0f, dtype: int64)     4"
      ]
     },
     "execution_count": 44,
     "metadata": {},
     "output_type": "execute_result"
    }
   ],
   "source": [
    "new"
   ]
  },
  {
   "cell_type": "code",
   "execution_count": 45,
   "metadata": {
    "collapsed": false
   },
   "outputs": [
    {
     "ename": "ValueError",
     "evalue": "min() arg is an empty sequence",
     "output_type": "error",
     "traceback": [
      "\u001b[0;31m---------------------------------------------------------------------------\u001b[0m",
      "\u001b[0;31mValueError\u001b[0m                                Traceback (most recent call last)",
      "\u001b[0;32m<ipython-input-45-26746f59d755>\u001b[0m in \u001b[0;36m<module>\u001b[0;34m()\u001b[0m\n\u001b[0;32m----> 1\u001b[0;31m \u001b[0msns\u001b[0m\u001b[1;33m.\u001b[0m\u001b[0mfactorplot\u001b[0m\u001b[1;33m(\u001b[0m\u001b[1;34m\"areaname\"\u001b[0m\u001b[1;33m,\u001b[0m\u001b[1;34m\"totalm\"\u001b[0m\u001b[1;33m,\u001b[0m\u001b[0mdata\u001b[0m\u001b[1;33m=\u001b[0m\u001b[0msat_d_t\u001b[0m\u001b[1;33m,\u001b[0m\u001b[0msize\u001b[0m\u001b[1;33m=\u001b[0m\u001b[1;36m10\u001b[0m\u001b[1;33m)\u001b[0m\u001b[1;33m\u001b[0m\u001b[0m\n\u001b[0m",
      "\u001b[0;32mC:\\Users\\Archit Umrao\\Anaconda3\\lib\\site-packages\\seaborn\\categorical.py\u001b[0m in \u001b[0;36mfactorplot\u001b[0;34m(x, y, hue, data, row, col, col_wrap, estimator, ci, n_boot, units, order, hue_order, row_order, col_order, kind, size, aspect, orient, color, palette, legend, legend_out, sharex, sharey, margin_titles, facet_kws, **kwargs)\u001b[0m\n\u001b[1;32m   3397\u001b[0m     \u001b[1;31m# so we need to define ``palette`` to get default behavior for the\u001b[0m\u001b[1;33m\u001b[0m\u001b[1;33m\u001b[0m\u001b[0m\n\u001b[1;32m   3398\u001b[0m     \u001b[1;31m# categorical functions\u001b[0m\u001b[1;33m\u001b[0m\u001b[1;33m\u001b[0m\u001b[0m\n\u001b[0;32m-> 3399\u001b[0;31m     \u001b[0mp\u001b[0m\u001b[1;33m.\u001b[0m\u001b[0mestablish_colors\u001b[0m\u001b[1;33m(\u001b[0m\u001b[0mcolor\u001b[0m\u001b[1;33m,\u001b[0m \u001b[0mpalette\u001b[0m\u001b[1;33m,\u001b[0m \u001b[1;36m1\u001b[0m\u001b[1;33m)\u001b[0m\u001b[1;33m\u001b[0m\u001b[0m\n\u001b[0m\u001b[1;32m   3400\u001b[0m     \u001b[1;32mif\u001b[0m \u001b[0mkind\u001b[0m \u001b[1;33m!=\u001b[0m \u001b[1;34m\"point\"\u001b[0m \u001b[1;32mor\u001b[0m \u001b[0mhue\u001b[0m \u001b[1;32mis\u001b[0m \u001b[1;32mnot\u001b[0m \u001b[1;32mNone\u001b[0m\u001b[1;33m:\u001b[0m\u001b[1;33m\u001b[0m\u001b[0m\n\u001b[1;32m   3401\u001b[0m         \u001b[0mpalette\u001b[0m \u001b[1;33m=\u001b[0m \u001b[0mp\u001b[0m\u001b[1;33m.\u001b[0m\u001b[0mcolors\u001b[0m\u001b[1;33m\u001b[0m\u001b[0m\n",
      "\u001b[0;32mC:\\Users\\Archit Umrao\\Anaconda3\\lib\\site-packages\\seaborn\\categorical.py\u001b[0m in \u001b[0;36mestablish_colors\u001b[0;34m(self, color, palette, saturation)\u001b[0m\n\u001b[1;32m    304\u001b[0m         \u001b[1;31m# Determine the gray color to use for the lines framing the plot\u001b[0m\u001b[1;33m\u001b[0m\u001b[1;33m\u001b[0m\u001b[0m\n\u001b[1;32m    305\u001b[0m         \u001b[0mlight_vals\u001b[0m \u001b[1;33m=\u001b[0m \u001b[1;33m[\u001b[0m\u001b[0mcolorsys\u001b[0m\u001b[1;33m.\u001b[0m\u001b[0mrgb_to_hls\u001b[0m\u001b[1;33m(\u001b[0m\u001b[1;33m*\u001b[0m\u001b[0mc\u001b[0m\u001b[1;33m)\u001b[0m\u001b[1;33m[\u001b[0m\u001b[1;36m1\u001b[0m\u001b[1;33m]\u001b[0m \u001b[1;32mfor\u001b[0m \u001b[0mc\u001b[0m \u001b[1;32min\u001b[0m \u001b[0mrgb_colors\u001b[0m\u001b[1;33m]\u001b[0m\u001b[1;33m\u001b[0m\u001b[0m\n\u001b[0;32m--> 306\u001b[0;31m         \u001b[0ml\u001b[0m \u001b[1;33m=\u001b[0m \u001b[0mmin\u001b[0m\u001b[1;33m(\u001b[0m\u001b[0mlight_vals\u001b[0m\u001b[1;33m)\u001b[0m \u001b[1;33m*\u001b[0m \u001b[1;36m.6\u001b[0m\u001b[1;33m\u001b[0m\u001b[0m\n\u001b[0m\u001b[1;32m    307\u001b[0m         \u001b[0mgray\u001b[0m \u001b[1;33m=\u001b[0m \u001b[0mmpl\u001b[0m\u001b[1;33m.\u001b[0m\u001b[0mcolors\u001b[0m\u001b[1;33m.\u001b[0m\u001b[0mrgb2hex\u001b[0m\u001b[1;33m(\u001b[0m\u001b[1;33m(\u001b[0m\u001b[0ml\u001b[0m\u001b[1;33m,\u001b[0m \u001b[0ml\u001b[0m\u001b[1;33m,\u001b[0m \u001b[0ml\u001b[0m\u001b[1;33m)\u001b[0m\u001b[1;33m)\u001b[0m\u001b[1;33m\u001b[0m\u001b[0m\n\u001b[1;32m    308\u001b[0m \u001b[1;33m\u001b[0m\u001b[0m\n",
      "\u001b[0;31mValueError\u001b[0m: min() arg is an empty sequence"
     ]
    }
   ],
   "source": [
    "sns.factorplot(\"areaname\",\"totalm\",data=sat_d_t,size=10)"
   ]
  },
  {
   "cell_type": "code",
   "execution_count": 46,
   "metadata": {
    "collapsed": true
   },
   "outputs": [
    {
     "ename": "AttributeError",
     "evalue": "'str' object has no attribute 'columns'",
     "output_type": "error",
     "traceback": [
      "\u001b[0;31m---------------------------------------------------------------------------\u001b[0m",
      "\u001b[0;31mAttributeError\u001b[0m                            Traceback (most recent call last)",
      "\u001b[0;32m<ipython-input-46-9f256a8cfca5>\u001b[0m in \u001b[0;36m<module>\u001b[0;34m()\u001b[0m\n\u001b[1;32m      1\u001b[0m \u001b[1;32mfor\u001b[0m \u001b[0mx\u001b[0m \u001b[1;32min\u001b[0m \u001b[0msat_d_t\u001b[0m\u001b[1;33m:\u001b[0m\u001b[1;33m\u001b[0m\u001b[0m\n\u001b[1;32m      2\u001b[0m     \u001b[1;32mfor\u001b[0m \u001b[0mi\u001b[0m \u001b[1;32min\u001b[0m \u001b[0mrange\u001b[0m\u001b[1;33m(\u001b[0m\u001b[1;36m0\u001b[0m\u001b[1;33m,\u001b[0m\u001b[1;36m9\u001b[0m\u001b[1;33m)\u001b[0m\u001b[1;33m:\u001b[0m\u001b[1;33m\u001b[0m\u001b[0m\n\u001b[0;32m----> 3\u001b[0;31m         \u001b[0mnewdf\u001b[0m\u001b[1;33m[\u001b[0m\u001b[1;34m\"areaname\"\u001b[0m\u001b[1;33m]\u001b[0m\u001b[1;33m=\u001b[0m\u001b[0mx\u001b[0m\u001b[1;33m.\u001b[0m\u001b[0mcolumns\u001b[0m\u001b[1;33m[\u001b[0m\u001b[1;36m1\u001b[0m\u001b[1;33m]\u001b[0m\u001b[1;33m\u001b[0m\u001b[0m\n\u001b[0m\u001b[1;32m      4\u001b[0m         \u001b[0mnewdf\u001b[0m\u001b[1;33m[\u001b[0m\u001b[1;34m\"gender\"\u001b[0m\u001b[1;33m]\u001b[0m\u001b[1;33m\u001b[0m\u001b[0m\n\u001b[1;32m      5\u001b[0m \u001b[1;33m\u001b[0m\u001b[0m\n",
      "\u001b[0;31mAttributeError\u001b[0m: 'str' object has no attribute 'columns'"
     ]
    }
   ],
   "source": [
    "for x in sat_d_t:\n",
    "    for i in range(0,9):\n",
    "        newdf[\"areaname\"]=x.columns[1]\n",
    "        newdf[\"gender\"]    \n",
    "    \n",
    "    \n",
    "    newsatd[\"areaname\"]"
   ]
  },
  {
   "cell_type": "code",
   "execution_count": 47,
   "metadata": {
    "collapsed": true
   },
   "outputs": [
    {
     "ename": "TypeError",
     "evalue": "'float' object is not subscriptable",
     "output_type": "error",
     "traceback": [
      "\u001b[0;31m---------------------------------------------------------------------------\u001b[0m",
      "\u001b[0;31mTypeError\u001b[0m                                 Traceback (most recent call last)",
      "\u001b[0;32m<ipython-input-47-ffcdf26b3c34>\u001b[0m in \u001b[0;36m<module>\u001b[0;34m()\u001b[0m\n\u001b[0;32m----> 1\u001b[0;31m \u001b[0msat_d_t\u001b[0m\u001b[1;33m[\u001b[0m\u001b[1;34m\"areaname\"\u001b[0m\u001b[1;33m]\u001b[0m\u001b[1;33m=\u001b[0m\u001b[0msat_d_t\u001b[0m\u001b[1;33m[\u001b[0m\u001b[1;34m\"areaname\"\u001b[0m\u001b[1;33m]\u001b[0m\u001b[1;33m.\u001b[0m\u001b[0mstr\u001b[0m\u001b[1;33m.\u001b[0m\u001b[0msplit\u001b[0m\u001b[1;33m(\u001b[0m\u001b[1;34m\"-\"\u001b[0m\u001b[1;33m)\u001b[0m\u001b[1;33m.\u001b[0m\u001b[0mmap\u001b[0m\u001b[1;33m(\u001b[0m\u001b[1;32mlambda\u001b[0m \u001b[0mx\u001b[0m\u001b[1;33m:\u001b[0m \u001b[0mx\u001b[0m\u001b[1;33m[\u001b[0m\u001b[1;36m1\u001b[0m\u001b[1;33m]\u001b[0m\u001b[1;33m)\u001b[0m\u001b[1;33m\u001b[0m\u001b[0m\n\u001b[0m",
      "\u001b[0;32mC:\\Users\\Archit Umrao\\Anaconda3\\lib\\site-packages\\pandas\\core\\series.py\u001b[0m in \u001b[0;36mmap\u001b[0;34m(self, arg, na_action)\u001b[0m\n\u001b[1;32m   2102\u001b[0m             \u001b[0mnew_values\u001b[0m \u001b[1;33m=\u001b[0m \u001b[0malgos\u001b[0m\u001b[1;33m.\u001b[0m\u001b[0mtake_1d\u001b[0m\u001b[1;33m(\u001b[0m\u001b[0marg\u001b[0m\u001b[1;33m.\u001b[0m\u001b[0m_values\u001b[0m\u001b[1;33m,\u001b[0m \u001b[0mindexer\u001b[0m\u001b[1;33m)\u001b[0m\u001b[1;33m\u001b[0m\u001b[0m\n\u001b[1;32m   2103\u001b[0m         \u001b[1;32melse\u001b[0m\u001b[1;33m:\u001b[0m\u001b[1;33m\u001b[0m\u001b[0m\n\u001b[0;32m-> 2104\u001b[0;31m             \u001b[0mnew_values\u001b[0m \u001b[1;33m=\u001b[0m \u001b[0mmap_f\u001b[0m\u001b[1;33m(\u001b[0m\u001b[0mvalues\u001b[0m\u001b[1;33m,\u001b[0m \u001b[0marg\u001b[0m\u001b[1;33m)\u001b[0m\u001b[1;33m\u001b[0m\u001b[0m\n\u001b[0m\u001b[1;32m   2105\u001b[0m \u001b[1;33m\u001b[0m\u001b[0m\n\u001b[1;32m   2106\u001b[0m         return self._constructor(new_values,\n",
      "\u001b[0;32mpandas\\src\\inference.pyx\u001b[0m in \u001b[0;36mpandas.lib.map_infer (pandas\\lib.c:62658)\u001b[0;34m()\u001b[0m\n",
      "\u001b[0;32m<ipython-input-47-ffcdf26b3c34>\u001b[0m in \u001b[0;36m<lambda>\u001b[0;34m(x)\u001b[0m\n\u001b[0;32m----> 1\u001b[0;31m \u001b[0msat_d_t\u001b[0m\u001b[1;33m[\u001b[0m\u001b[1;34m\"areaname\"\u001b[0m\u001b[1;33m]\u001b[0m\u001b[1;33m=\u001b[0m\u001b[0msat_d_t\u001b[0m\u001b[1;33m[\u001b[0m\u001b[1;34m\"areaname\"\u001b[0m\u001b[1;33m]\u001b[0m\u001b[1;33m.\u001b[0m\u001b[0mstr\u001b[0m\u001b[1;33m.\u001b[0m\u001b[0msplit\u001b[0m\u001b[1;33m(\u001b[0m\u001b[1;34m\"-\"\u001b[0m\u001b[1;33m)\u001b[0m\u001b[1;33m.\u001b[0m\u001b[0mmap\u001b[0m\u001b[1;33m(\u001b[0m\u001b[1;32mlambda\u001b[0m \u001b[0mx\u001b[0m\u001b[1;33m:\u001b[0m \u001b[0mx\u001b[0m\u001b[1;33m[\u001b[0m\u001b[1;36m1\u001b[0m\u001b[1;33m]\u001b[0m\u001b[1;33m)\u001b[0m\u001b[1;33m\u001b[0m\u001b[0m\n\u001b[0m",
      "\u001b[0;31mTypeError\u001b[0m: 'float' object is not subscriptable"
     ]
    }
   ],
   "source": [
    "sat_d_t[\"areaname\"]=sat_d_t[\"areaname\"].str.split(\"-\").map(lambda x: x[1])"
   ]
  },
  {
   "cell_type": "code",
   "execution_count": 48,
   "metadata": {
    "collapsed": true
   },
   "outputs": [
    {
     "ename": "TypeError",
     "evalue": "'float' object is not subscriptable",
     "output_type": "error",
     "traceback": [
      "\u001b[0;31m---------------------------------------------------------------------------\u001b[0m",
      "\u001b[0;31mTypeError\u001b[0m                                 Traceback (most recent call last)",
      "\u001b[0;32m<ipython-input-48-209151635432>\u001b[0m in \u001b[0;36m<module>\u001b[0;34m()\u001b[0m\n\u001b[0;32m----> 1\u001b[0;31m \u001b[0msat_d_t\u001b[0m\u001b[1;33m[\u001b[0m\u001b[1;34m\"areaname\"\u001b[0m\u001b[1;33m]\u001b[0m\u001b[1;33m=\u001b[0m\u001b[0msat_d_t\u001b[0m\u001b[1;33m[\u001b[0m\u001b[1;34m\"areaname\"\u001b[0m\u001b[1;33m]\u001b[0m\u001b[1;33m.\u001b[0m\u001b[0mstr\u001b[0m\u001b[1;33m.\u001b[0m\u001b[0msplit\u001b[0m\u001b[1;33m(\u001b[0m\u001b[1;34m\"*\"\u001b[0m\u001b[1;33m)\u001b[0m\u001b[1;33m.\u001b[0m\u001b[0mmap\u001b[0m\u001b[1;33m(\u001b[0m\u001b[1;32mlambda\u001b[0m \u001b[0mx\u001b[0m\u001b[1;33m:\u001b[0m \u001b[0mx\u001b[0m\u001b[1;33m[\u001b[0m\u001b[1;36m0\u001b[0m\u001b[1;33m]\u001b[0m\u001b[1;33m)\u001b[0m\u001b[1;33m\u001b[0m\u001b[0m\n\u001b[0m",
      "\u001b[0;32mC:\\Users\\Archit Umrao\\Anaconda3\\lib\\site-packages\\pandas\\core\\series.py\u001b[0m in \u001b[0;36mmap\u001b[0;34m(self, arg, na_action)\u001b[0m\n\u001b[1;32m   2102\u001b[0m             \u001b[0mnew_values\u001b[0m \u001b[1;33m=\u001b[0m \u001b[0malgos\u001b[0m\u001b[1;33m.\u001b[0m\u001b[0mtake_1d\u001b[0m\u001b[1;33m(\u001b[0m\u001b[0marg\u001b[0m\u001b[1;33m.\u001b[0m\u001b[0m_values\u001b[0m\u001b[1;33m,\u001b[0m \u001b[0mindexer\u001b[0m\u001b[1;33m)\u001b[0m\u001b[1;33m\u001b[0m\u001b[0m\n\u001b[1;32m   2103\u001b[0m         \u001b[1;32melse\u001b[0m\u001b[1;33m:\u001b[0m\u001b[1;33m\u001b[0m\u001b[0m\n\u001b[0;32m-> 2104\u001b[0;31m             \u001b[0mnew_values\u001b[0m \u001b[1;33m=\u001b[0m \u001b[0mmap_f\u001b[0m\u001b[1;33m(\u001b[0m\u001b[0mvalues\u001b[0m\u001b[1;33m,\u001b[0m \u001b[0marg\u001b[0m\u001b[1;33m)\u001b[0m\u001b[1;33m\u001b[0m\u001b[0m\n\u001b[0m\u001b[1;32m   2105\u001b[0m \u001b[1;33m\u001b[0m\u001b[0m\n\u001b[1;32m   2106\u001b[0m         return self._constructor(new_values,\n",
      "\u001b[0;32mpandas\\src\\inference.pyx\u001b[0m in \u001b[0;36mpandas.lib.map_infer (pandas\\lib.c:62658)\u001b[0;34m()\u001b[0m\n",
      "\u001b[0;32m<ipython-input-48-209151635432>\u001b[0m in \u001b[0;36m<lambda>\u001b[0;34m(x)\u001b[0m\n\u001b[0;32m----> 1\u001b[0;31m \u001b[0msat_d_t\u001b[0m\u001b[1;33m[\u001b[0m\u001b[1;34m\"areaname\"\u001b[0m\u001b[1;33m]\u001b[0m\u001b[1;33m=\u001b[0m\u001b[0msat_d_t\u001b[0m\u001b[1;33m[\u001b[0m\u001b[1;34m\"areaname\"\u001b[0m\u001b[1;33m]\u001b[0m\u001b[1;33m.\u001b[0m\u001b[0mstr\u001b[0m\u001b[1;33m.\u001b[0m\u001b[0msplit\u001b[0m\u001b[1;33m(\u001b[0m\u001b[1;34m\"*\"\u001b[0m\u001b[1;33m)\u001b[0m\u001b[1;33m.\u001b[0m\u001b[0mmap\u001b[0m\u001b[1;33m(\u001b[0m\u001b[1;32mlambda\u001b[0m \u001b[0mx\u001b[0m\u001b[1;33m:\u001b[0m \u001b[0mx\u001b[0m\u001b[1;33m[\u001b[0m\u001b[1;36m0\u001b[0m\u001b[1;33m]\u001b[0m\u001b[1;33m)\u001b[0m\u001b[1;33m\u001b[0m\u001b[0m\n\u001b[0m",
      "\u001b[0;31mTypeError\u001b[0m: 'float' object is not subscriptable"
     ]
    }
   ],
   "source": [
    "sat_d_t[\"areaname\"]=sat_d_t[\"areaname\"].str.split(\"*\").map(lambda x: x[0])"
   ]
  },
  {
   "cell_type": "code",
   "execution_count": 49,
   "metadata": {
    "collapsed": true
   },
   "outputs": [
    {
     "ename": "TypeError",
     "evalue": "'float' object is not subscriptable",
     "output_type": "error",
     "traceback": [
      "\u001b[0;31m---------------------------------------------------------------------------\u001b[0m",
      "\u001b[0;31mTypeError\u001b[0m                                 Traceback (most recent call last)",
      "\u001b[0;32m<ipython-input-49-c1d6820f2e21>\u001b[0m in \u001b[0;36m<module>\u001b[0;34m()\u001b[0m\n\u001b[0;32m----> 1\u001b[0;31m \u001b[0msat_d_t\u001b[0m\u001b[1;33m[\u001b[0m\u001b[1;34m\"areaname\"\u001b[0m\u001b[1;33m]\u001b[0m\u001b[1;33m=\u001b[0m\u001b[0msat_d_t\u001b[0m\u001b[1;33m[\u001b[0m\u001b[1;34m\"areaname\"\u001b[0m\u001b[1;33m]\u001b[0m\u001b[1;33m.\u001b[0m\u001b[0mstr\u001b[0m\u001b[1;33m.\u001b[0m\u001b[0msplit\u001b[0m\u001b[1;33m(\u001b[0m\u001b[1;34m\"  \"\u001b[0m\u001b[1;33m)\u001b[0m\u001b[1;33m.\u001b[0m\u001b[0mmap\u001b[0m\u001b[1;33m(\u001b[0m\u001b[1;32mlambda\u001b[0m \u001b[0mx\u001b[0m\u001b[1;33m:\u001b[0m \u001b[0mx\u001b[0m\u001b[1;33m[\u001b[0m\u001b[1;36m0\u001b[0m\u001b[1;33m]\u001b[0m\u001b[1;33m)\u001b[0m\u001b[1;33m\u001b[0m\u001b[0m\n\u001b[0m",
      "\u001b[0;32mC:\\Users\\Archit Umrao\\Anaconda3\\lib\\site-packages\\pandas\\core\\series.py\u001b[0m in \u001b[0;36mmap\u001b[0;34m(self, arg, na_action)\u001b[0m\n\u001b[1;32m   2102\u001b[0m             \u001b[0mnew_values\u001b[0m \u001b[1;33m=\u001b[0m \u001b[0malgos\u001b[0m\u001b[1;33m.\u001b[0m\u001b[0mtake_1d\u001b[0m\u001b[1;33m(\u001b[0m\u001b[0marg\u001b[0m\u001b[1;33m.\u001b[0m\u001b[0m_values\u001b[0m\u001b[1;33m,\u001b[0m \u001b[0mindexer\u001b[0m\u001b[1;33m)\u001b[0m\u001b[1;33m\u001b[0m\u001b[0m\n\u001b[1;32m   2103\u001b[0m         \u001b[1;32melse\u001b[0m\u001b[1;33m:\u001b[0m\u001b[1;33m\u001b[0m\u001b[0m\n\u001b[0;32m-> 2104\u001b[0;31m             \u001b[0mnew_values\u001b[0m \u001b[1;33m=\u001b[0m \u001b[0mmap_f\u001b[0m\u001b[1;33m(\u001b[0m\u001b[0mvalues\u001b[0m\u001b[1;33m,\u001b[0m \u001b[0marg\u001b[0m\u001b[1;33m)\u001b[0m\u001b[1;33m\u001b[0m\u001b[0m\n\u001b[0m\u001b[1;32m   2105\u001b[0m \u001b[1;33m\u001b[0m\u001b[0m\n\u001b[1;32m   2106\u001b[0m         return self._constructor(new_values,\n",
      "\u001b[0;32mpandas\\src\\inference.pyx\u001b[0m in \u001b[0;36mpandas.lib.map_infer (pandas\\lib.c:62658)\u001b[0;34m()\u001b[0m\n",
      "\u001b[0;32m<ipython-input-49-c1d6820f2e21>\u001b[0m in \u001b[0;36m<lambda>\u001b[0;34m(x)\u001b[0m\n\u001b[0;32m----> 1\u001b[0;31m \u001b[0msat_d_t\u001b[0m\u001b[1;33m[\u001b[0m\u001b[1;34m\"areaname\"\u001b[0m\u001b[1;33m]\u001b[0m\u001b[1;33m=\u001b[0m\u001b[0msat_d_t\u001b[0m\u001b[1;33m[\u001b[0m\u001b[1;34m\"areaname\"\u001b[0m\u001b[1;33m]\u001b[0m\u001b[1;33m.\u001b[0m\u001b[0mstr\u001b[0m\u001b[1;33m.\u001b[0m\u001b[0msplit\u001b[0m\u001b[1;33m(\u001b[0m\u001b[1;34m\"  \"\u001b[0m\u001b[1;33m)\u001b[0m\u001b[1;33m.\u001b[0m\u001b[0mmap\u001b[0m\u001b[1;33m(\u001b[0m\u001b[1;32mlambda\u001b[0m \u001b[0mx\u001b[0m\u001b[1;33m:\u001b[0m \u001b[0mx\u001b[0m\u001b[1;33m[\u001b[0m\u001b[1;36m0\u001b[0m\u001b[1;33m]\u001b[0m\u001b[1;33m)\u001b[0m\u001b[1;33m\u001b[0m\u001b[0m\n\u001b[0m",
      "\u001b[0;31mTypeError\u001b[0m: 'float' object is not subscriptable"
     ]
    }
   ],
   "source": [
    "sat_d_t[\"areaname\"]=sat_d_t[\"areaname\"].str.split(\"  \").map(lambda x: x[0])"
   ]
  },
  {
   "cell_type": "code",
   "execution_count": 50,
   "metadata": {
    "collapsed": false
   },
   "outputs": [],
   "source": [
    "sat_d_t=sat_d_t[:-1]"
   ]
  },
  {
   "cell_type": "code",
   "execution_count": 51,
   "metadata": {
    "collapsed": false
   },
   "outputs": [
    {
     "data": {
      "text/plain": [
       "Index(['statecode', 'areaname', 'tru', 'totalm', 'totalf', 'psum', 'psuf',\n",
       "       'pvtm', 'pvtf', 'bsm', 'bsf', '0m', '0f'],\n",
       "      dtype='object')"
      ]
     },
     "execution_count": 51,
     "metadata": {},
     "output_type": "execute_result"
    }
   ],
   "source": [
    "sat_d_t.columns"
   ]
  },
  {
   "cell_type": "code",
   "execution_count": 52,
   "metadata": {
    "collapsed": true
   },
   "outputs": [
    {
     "ename": "ValueError",
     "evalue": "cannot copy sequence with size 4 to array axis with dimension 9",
     "output_type": "error",
     "traceback": [
      "\u001b[0;31m---------------------------------------------------------------------------\u001b[0m",
      "\u001b[0;31mValueError\u001b[0m                                Traceback (most recent call last)",
      "\u001b[0;32mC:\\Users\\Archit Umrao\\Anaconda3\\lib\\site-packages\\pandas\\core\\common.py\u001b[0m in \u001b[0;36m_asarray_tuplesafe\u001b[0;34m(values, dtype)\u001b[0m\n\u001b[1;32m   1403\u001b[0m                 \u001b[0mresult\u001b[0m \u001b[1;33m=\u001b[0m \u001b[0mnp\u001b[0m\u001b[1;33m.\u001b[0m\u001b[0mempty\u001b[0m\u001b[1;33m(\u001b[0m\u001b[0mlen\u001b[0m\u001b[1;33m(\u001b[0m\u001b[0mvalues\u001b[0m\u001b[1;33m)\u001b[0m\u001b[1;33m,\u001b[0m \u001b[0mdtype\u001b[0m\u001b[1;33m=\u001b[0m\u001b[0mobject\u001b[0m\u001b[1;33m)\u001b[0m\u001b[1;33m\u001b[0m\u001b[0m\n\u001b[0;32m-> 1404\u001b[0;31m                 \u001b[0mresult\u001b[0m\u001b[1;33m[\u001b[0m\u001b[1;33m:\u001b[0m\u001b[1;33m]\u001b[0m \u001b[1;33m=\u001b[0m \u001b[0mvalues\u001b[0m\u001b[1;33m\u001b[0m\u001b[0m\n\u001b[0m\u001b[1;32m   1405\u001b[0m             \u001b[1;32mexcept\u001b[0m \u001b[0mValueError\u001b[0m\u001b[1;33m:\u001b[0m\u001b[1;33m\u001b[0m\u001b[0m\n",
      "\u001b[0;31mValueError\u001b[0m: could not broadcast input array from shape (9,4) into shape (9)",
      "\nDuring handling of the above exception, another exception occurred:\n",
      "\u001b[0;31mValueError\u001b[0m                                Traceback (most recent call last)",
      "\u001b[0;32m<ipython-input-52-2e9cf77e934d>\u001b[0m in \u001b[0;36m<module>\u001b[0;34m()\u001b[0m\n\u001b[1;32m      1\u001b[0m \u001b[0ma\u001b[0m \u001b[1;33m=\u001b[0m \u001b[1;33m[\u001b[0m\u001b[1;34m'psum'\u001b[0m\u001b[1;33m,\u001b[0m\u001b[1;34m'pvtm'\u001b[0m\u001b[1;33m,\u001b[0m \u001b[1;34m'bsm'\u001b[0m\u001b[1;33m,\u001b[0m \u001b[1;34m'0m'\u001b[0m\u001b[1;33m]\u001b[0m\u001b[1;33m\u001b[0m\u001b[0m\n\u001b[1;32m      2\u001b[0m \u001b[1;33m\u001b[0m\u001b[0m\n\u001b[0;32m----> 3\u001b[0;31m \u001b[0msns\u001b[0m\u001b[1;33m.\u001b[0m\u001b[0mfactorplot\u001b[0m\u001b[1;33m(\u001b[0m\u001b[1;34m\"areaname\"\u001b[0m\u001b[1;33m,\u001b[0m\u001b[0ma\u001b[0m\u001b[1;33m,\u001b[0m\u001b[0mdata\u001b[0m\u001b[1;33m=\u001b[0m\u001b[0msat_d_t\u001b[0m\u001b[1;33m,\u001b[0m\u001b[0msize\u001b[0m\u001b[1;33m=\u001b[0m\u001b[1;36m7\u001b[0m\u001b[1;33m)\u001b[0m\u001b[1;33m\u001b[0m\u001b[0m\n\u001b[0m",
      "\u001b[0;32mC:\\Users\\Archit Umrao\\Anaconda3\\lib\\site-packages\\seaborn\\categorical.py\u001b[0m in \u001b[0;36mfactorplot\u001b[0;34m(x, y, hue, data, row, col, col_wrap, estimator, ci, n_boot, units, order, hue_order, row_order, col_order, kind, size, aspect, orient, color, palette, legend, legend_out, sharex, sharey, margin_titles, facet_kws, **kwargs)\u001b[0m\n\u001b[1;32m   3389\u001b[0m     \u001b[1;31m# facets to ensure representation of all data in the final plot\u001b[0m\u001b[1;33m\u001b[0m\u001b[1;33m\u001b[0m\u001b[0m\n\u001b[1;32m   3390\u001b[0m     \u001b[0mp\u001b[0m \u001b[1;33m=\u001b[0m \u001b[0m_CategoricalPlotter\u001b[0m\u001b[1;33m(\u001b[0m\u001b[1;33m)\u001b[0m\u001b[1;33m\u001b[0m\u001b[0m\n\u001b[0;32m-> 3391\u001b[0;31m     \u001b[0mp\u001b[0m\u001b[1;33m.\u001b[0m\u001b[0mestablish_variables\u001b[0m\u001b[1;33m(\u001b[0m\u001b[0mx_\u001b[0m\u001b[1;33m,\u001b[0m \u001b[0my_\u001b[0m\u001b[1;33m,\u001b[0m \u001b[0mhue\u001b[0m\u001b[1;33m,\u001b[0m \u001b[0mdata\u001b[0m\u001b[1;33m,\u001b[0m \u001b[0morient\u001b[0m\u001b[1;33m,\u001b[0m \u001b[0morder\u001b[0m\u001b[1;33m,\u001b[0m \u001b[0mhue_order\u001b[0m\u001b[1;33m)\u001b[0m\u001b[1;33m\u001b[0m\u001b[0m\n\u001b[0m\u001b[1;32m   3392\u001b[0m     \u001b[0morder\u001b[0m \u001b[1;33m=\u001b[0m \u001b[0mp\u001b[0m\u001b[1;33m.\u001b[0m\u001b[0mgroup_names\u001b[0m\u001b[1;33m\u001b[0m\u001b[0m\n\u001b[1;32m   3393\u001b[0m     \u001b[0mhue_order\u001b[0m \u001b[1;33m=\u001b[0m \u001b[0mp\u001b[0m\u001b[1;33m.\u001b[0m\u001b[0mhue_names\u001b[0m\u001b[1;33m\u001b[0m\u001b[0m\n",
      "\u001b[0;32mC:\\Users\\Archit Umrao\\Anaconda3\\lib\\site-packages\\seaborn\\categorical.py\u001b[0m in \u001b[0;36mestablish_variables\u001b[0;34m(self, x, y, hue, data, orient, order, hue_order, units)\u001b[0m\n\u001b[1;32m    201\u001b[0m                 \u001b[1;31m# Group the numeric data\u001b[0m\u001b[1;33m\u001b[0m\u001b[1;33m\u001b[0m\u001b[0m\n\u001b[1;32m    202\u001b[0m                 plot_data, value_label = self._group_longform(vals, groups,\n\u001b[0;32m--> 203\u001b[0;31m                                                               group_names)\n\u001b[0m\u001b[1;32m    204\u001b[0m \u001b[1;33m\u001b[0m\u001b[0m\n\u001b[1;32m    205\u001b[0m                 \u001b[1;31m# Now handle the hue levels for nested ordering\u001b[0m\u001b[1;33m\u001b[0m\u001b[1;33m\u001b[0m\u001b[0m\n",
      "\u001b[0;32mC:\\Users\\Archit Umrao\\Anaconda3\\lib\\site-packages\\seaborn\\categorical.py\u001b[0m in \u001b[0;36m_group_longform\u001b[0;34m(self, vals, grouper, order)\u001b[0m\n\u001b[1;32m    240\u001b[0m         \u001b[1;31m# Ensure that the groupby will work\u001b[0m\u001b[1;33m\u001b[0m\u001b[1;33m\u001b[0m\u001b[0m\n\u001b[1;32m    241\u001b[0m         \u001b[1;32mif\u001b[0m \u001b[1;32mnot\u001b[0m \u001b[0misinstance\u001b[0m\u001b[1;33m(\u001b[0m\u001b[0mvals\u001b[0m\u001b[1;33m,\u001b[0m \u001b[0mpd\u001b[0m\u001b[1;33m.\u001b[0m\u001b[0mSeries\u001b[0m\u001b[1;33m)\u001b[0m\u001b[1;33m:\u001b[0m\u001b[1;33m\u001b[0m\u001b[0m\n\u001b[0;32m--> 242\u001b[0;31m             \u001b[0mvals\u001b[0m \u001b[1;33m=\u001b[0m \u001b[0mpd\u001b[0m\u001b[1;33m.\u001b[0m\u001b[0mSeries\u001b[0m\u001b[1;33m(\u001b[0m\u001b[0mvals\u001b[0m\u001b[1;33m)\u001b[0m\u001b[1;33m\u001b[0m\u001b[0m\n\u001b[0m\u001b[1;32m    243\u001b[0m \u001b[1;33m\u001b[0m\u001b[0m\n\u001b[1;32m    244\u001b[0m         \u001b[1;31m# Group the val data\u001b[0m\u001b[1;33m\u001b[0m\u001b[1;33m\u001b[0m\u001b[0m\n",
      "\u001b[0;32mC:\\Users\\Archit Umrao\\Anaconda3\\lib\\site-packages\\pandas\\core\\series.py\u001b[0m in \u001b[0;36m__init__\u001b[0;34m(self, data, index, dtype, name, copy, fastpath)\u001b[0m\n\u001b[1;32m    225\u001b[0m             \u001b[1;32melse\u001b[0m\u001b[1;33m:\u001b[0m\u001b[1;33m\u001b[0m\u001b[0m\n\u001b[1;32m    226\u001b[0m                 data = _sanitize_array(data, index, dtype, copy,\n\u001b[0;32m--> 227\u001b[0;31m                                        raise_cast_failure=True)\n\u001b[0m\u001b[1;32m    228\u001b[0m \u001b[1;33m\u001b[0m\u001b[0m\n\u001b[1;32m    229\u001b[0m                 \u001b[0mdata\u001b[0m \u001b[1;33m=\u001b[0m \u001b[0mSingleBlockManager\u001b[0m\u001b[1;33m(\u001b[0m\u001b[0mdata\u001b[0m\u001b[1;33m,\u001b[0m \u001b[0mindex\u001b[0m\u001b[1;33m,\u001b[0m \u001b[0mfastpath\u001b[0m\u001b[1;33m=\u001b[0m\u001b[1;32mTrue\u001b[0m\u001b[1;33m)\u001b[0m\u001b[1;33m\u001b[0m\u001b[0m\n",
      "\u001b[0;32mC:\\Users\\Archit Umrao\\Anaconda3\\lib\\site-packages\\pandas\\core\\series.py\u001b[0m in \u001b[0;36m_sanitize_array\u001b[0;34m(data, index, dtype, copy, raise_cast_failure)\u001b[0m\n\u001b[1;32m   2920\u001b[0m             \u001b[1;32mraise\u001b[0m \u001b[0mException\u001b[0m\u001b[1;33m(\u001b[0m\u001b[1;34m'Data must be 1-dimensional'\u001b[0m\u001b[1;33m)\u001b[0m\u001b[1;33m\u001b[0m\u001b[0m\n\u001b[1;32m   2921\u001b[0m         \u001b[1;32melse\u001b[0m\u001b[1;33m:\u001b[0m\u001b[1;33m\u001b[0m\u001b[0m\n\u001b[0;32m-> 2922\u001b[0;31m             \u001b[0msubarr\u001b[0m \u001b[1;33m=\u001b[0m \u001b[0m_asarray_tuplesafe\u001b[0m\u001b[1;33m(\u001b[0m\u001b[0mdata\u001b[0m\u001b[1;33m,\u001b[0m \u001b[0mdtype\u001b[0m\u001b[1;33m=\u001b[0m\u001b[0mdtype\u001b[0m\u001b[1;33m)\u001b[0m\u001b[1;33m\u001b[0m\u001b[0m\n\u001b[0m\u001b[1;32m   2923\u001b[0m \u001b[1;33m\u001b[0m\u001b[0m\n\u001b[1;32m   2924\u001b[0m     \u001b[1;31m# This is to prevent mixed-type Series getting all casted to\u001b[0m\u001b[1;33m\u001b[0m\u001b[1;33m\u001b[0m\u001b[0m\n",
      "\u001b[0;32mC:\\Users\\Archit Umrao\\Anaconda3\\lib\\site-packages\\pandas\\core\\common.py\u001b[0m in \u001b[0;36m_asarray_tuplesafe\u001b[0;34m(values, dtype)\u001b[0m\n\u001b[1;32m   1405\u001b[0m             \u001b[1;32mexcept\u001b[0m \u001b[0mValueError\u001b[0m\u001b[1;33m:\u001b[0m\u001b[1;33m\u001b[0m\u001b[0m\n\u001b[1;32m   1406\u001b[0m                 \u001b[1;31m# we have a list-of-list\u001b[0m\u001b[1;33m\u001b[0m\u001b[1;33m\u001b[0m\u001b[0m\n\u001b[0;32m-> 1407\u001b[0;31m                 \u001b[0mresult\u001b[0m\u001b[1;33m[\u001b[0m\u001b[1;33m:\u001b[0m\u001b[1;33m]\u001b[0m \u001b[1;33m=\u001b[0m \u001b[1;33m[\u001b[0m\u001b[0mtuple\u001b[0m\u001b[1;33m(\u001b[0m\u001b[0mx\u001b[0m\u001b[1;33m)\u001b[0m \u001b[1;32mfor\u001b[0m \u001b[0mx\u001b[0m \u001b[1;32min\u001b[0m \u001b[0mvalues\u001b[0m\u001b[1;33m]\u001b[0m\u001b[1;33m\u001b[0m\u001b[0m\n\u001b[0m\u001b[1;32m   1408\u001b[0m \u001b[1;33m\u001b[0m\u001b[0m\n\u001b[1;32m   1409\u001b[0m     \u001b[1;32mreturn\u001b[0m \u001b[0mresult\u001b[0m\u001b[1;33m\u001b[0m\u001b[0m\n",
      "\u001b[0;31mValueError\u001b[0m: cannot copy sequence with size 4 to array axis with dimension 9"
     ]
    }
   ],
   "source": [
    "a = ['psum','pvtm', 'bsm', '0m']\n",
    "\n",
    "sns.factorplot(\"areaname\",a,data=sat_d_t,size=7)"
   ]
  },
  {
   "cell_type": "code",
   "execution_count": null,
   "metadata": {
    "collapsed": true
   },
   "outputs": [],
   "source": [
    "sns.factorplot(\"\")"
   ]
  },
  {
   "cell_type": "code",
   "execution_count": 53,
   "metadata": {
    "collapsed": false
   },
   "outputs": [
    {
     "data": {
      "text/plain": [
       "[<matplotlib.lines.Line2D at 0x22b9dda7080>]"
      ]
     },
     "execution_count": 53,
     "metadata": {},
     "output_type": "execute_result"
    },
    {
     "data": {
      "image/png": "[encoded data removed]",
      "text/plain": [
       "<matplotlib.figure.Figure at 0x22b9dda72b0>"
      ]
     },
     "metadata": {},
     "output_type": "display_data"
    }
   ],
   "source": [
    "a = [12,3,31]\n",
    "b = [3,4,5]\n",
    "plt.hist(a)\n",
    "plt.plot(b)"
   ]
  },
  {
   "cell_type": "code",
   "execution_count": 54,
   "metadata": {
    "collapsed": false
   },
   "outputs": [
    {
     "data": {
      "text/plain": [
       "[<matplotlib.lines.Line2D at 0x22b9e71e940>]"
      ]
     },
     "execution_count": 54,
     "metadata": {},
     "output_type": "execute_result"
    },
    {
     "data": {
      "image/png": "[encoded data removed]",
      "text/plain": [
       "<matplotlib.figure.Figure at 0x22b9ddfd940>"
      ]
     },
     "metadata": {},
     "output_type": "display_data"
    }
   ],
   "source": [
    "a = []\n",
    "b = []\n",
    "c = []\n",
    "for index,row in sat_d_t.iterrows():\n",
    "    a.append(row['psum'])\n",
    "    b.append(row['psuf'])\n",
    "    c.append(row['pvtm'])\n",
    "plt.plot(a)\n",
    "plt.plot(b)\n",
    "plt.plot(c)"
   ]
  },
  {
   "cell_type": "code",
   "execution_count": null,
   "metadata": {
    "collapsed": true
   },
   "outputs": [],
   "source": []
  },
  {
   "cell_type": "code",
   "execution_count": null,
   "metadata": {
    "collapsed": true
   },
   "outputs": [],
   "source": []
  },
  {
   "cell_type": "code",
   "execution_count": null,
   "metadata": {
    "collapsed": true
   },
   "outputs": [],
   "source": []
  },
  {
   "cell_type": "code",
   "execution_count": null,
   "metadata": {
    "collapsed": true
   },
   "outputs": [],
   "source": []
  }
 ],
 "metadata": {
  "anaconda-cloud": {},
  "kernelspec": {
   "display_name": "Python [conda root]",
   "language": "python",
   "name": "conda-root-py"
  },
  "language_info": {
   "codemirror_mode": {
    "name": "ipython",
    "version": 3
   },
   "file_extension": ".py",
   "mimetype": "text/x-python",
   "name": "python",
   "nbconvert_exporter": "python",
   "pygments_lexer": "ipython3",
   "version": "3.5.2"
  }
 },
 "nbformat": 4,
 "nbformat_minor": 1
}
